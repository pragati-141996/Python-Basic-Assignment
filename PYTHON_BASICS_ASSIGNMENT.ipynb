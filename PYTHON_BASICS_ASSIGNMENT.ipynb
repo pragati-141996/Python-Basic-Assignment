{
  "nbformat": 4,
  "nbformat_minor": 0,
  "metadata": {
    "colab": {
      "provenance": []
    },
    "kernelspec": {
      "name": "python3",
      "display_name": "Python 3"
    },
    "language_info": {
      "name": "python"
    }
  },
  "cells": [
    {
      "cell_type": "markdown",
      "source": [
        "# PYTHON BASICS QUESTIONS\n",
        "\n"
      ],
      "metadata": {
        "id": "Ez_Pq26St0z1"
      }
    },
    {
      "cell_type": "markdown",
      "source": [
        "1. What is Python, and why is it popular ?\n",
        "  -  Python is a programming language.Python provides set of specific predefined keywords,rules and symbols ,that we use,to give instructions to computer.\n",
        "  -  ***Reasons for popularity :***\n",
        "  -  It is easy to understand and write\n",
        "  -  It is compatible with various programming paradigms like procedural,object oriented,functional programming\n",
        "  -  It has large and active community of developers,an extensive standard library and third party packages for various domains\n",
        "  -  It is a general purpose language.It can be used to develop any amount of software like for automation use cases,image processing,data analysis etc.\n",
        "\n",
        "\n",
        "\n",
        "2.   What is an interpreter in Python ?\n",
        "  - Interpreter is a program that reads the python code , process it, line by line and executes the instructions.This makes it easier to test and debug code.\n",
        "\n",
        "\n",
        "\n",
        "3.  What are pre-defined keywords in Python ?\n",
        "  - Predefined words  are special words that hold a special meaning and have specific purpose in python.These define the structure and syntax of the language.These keywords cannot be used as identifiers.Eg: True,False,None,and,import,lambda etc.\n",
        "\n",
        "\n",
        "\n",
        "4.  Can keywords be used as variable names ?\n",
        "  - No, keywords cannot be used as variable names.Because,keywords are reserved words that have special meaning and purpose.So, if used,it ll result in a syntax error.\n",
        "\n",
        "\n",
        "\n",
        "5.   What is mutability in Python ?\n",
        "  -  Mutability is the ability of an object to be changed after it has been created.Mutability affects how objects are stored and manipulated in memory, impacting performance, memory usage, and concurrency in Python programs.\n",
        "\n",
        "\n",
        "\n",
        "6.  Why are lists mutable, but tuples are immutable ?\n",
        "  -  Lists are mutable because lists are designed to be dynamic data structure to allow efficient modification and updating of data.This flexibility increses its suitability for situation which need frequent changes.Eg. shopping cart.\n",
        "  -  Tuples are immutable beacuse tuples are designed to be static data structure.This prevents accidental or unintended changes to data.Tuples are suitable for situations where data integrity is crucial.Eg. Database records.\n",
        "\n",
        "\n",
        "\n",
        "7.  What is the difference between “==” and “is” operators in Python ?\n",
        " -  \"==\" is an equality operator.This operator compares the values of two objects.It checks whether the values stored in two variables are the same, regardless of whether the two variables refer to the same object in memory.\n",
        " -  \"is\" is an identity operator.This operator compares the identities of two objects.It checks if two variables point to the same object in memory.\n",
        "\n",
        "\n",
        "\n",
        "8.  What are logical operators in Python ?\n",
        " - Logical operators are used to combine conditional statements such as if statements,loops and boolean expressions.\n",
        " - there are 3 types of logical operators:and,or and not\n",
        " -And : Returns \"True\" if both the operands are true\n",
        " - Or : Returns \"True\" if atleast one operand is true\n",
        " - Not : Reverses the true value of its operand.Returns \"True\" if operand is \"False\" and vice versa.\n",
        "\n",
        "\n",
        "\n",
        "9.  What is type casting in Python ?\n",
        " -  Type casting/type conversion is the process of changing the data type of a value/object in python.Python provides built-in functions for type casting, such as int(), float(), str(), list(), tuple() etc.Type casting is often necessary for performing arithmetic operations, data manipulation, and input/output operations in Python programs.Type casting is essential because while executing computation using operators, there can be mismatch between the datatype.\n",
        "\n",
        "\n",
        "10. What is the difference between implicit and explicit type casting ?\n",
        "  -  There are 2 types of type casting : Implicit and Explicit\n",
        "  -  Implicit type casting : Python understands the datatype and automatically converts a smaller data type into a larger data type when needed, without losing information.\n",
        "  - Explicit Type casting : Manually converts one data type to another.This is done using inbuilt functions like str, int, float, bool.\n",
        "\n",
        "\n",
        "\n",
        "11. What is the purpose of conditional statements in Python ?\n",
        " -  Conditionals in Python are used to execute code based on the evaluation of one or more conditions.Python supports conditional statements such as if, elif (else if), and else to control the flow of execution.Conditionals can be nested to handle multiple conditions and control different branches of execution based on the outcome of logical expressions.\n",
        "\n",
        "\n",
        "12. How does the elif statement work ?\n",
        " -  Elif statement works by evaluating multiple conditions one by one from top to bottom.As soon as one condition is met, the corresponding block gets executed, and the rest of the conditions are ignored.\n",
        "\n",
        "\n",
        "\n",
        "13. What is the difference between for and while loops ?\n",
        " -  “for” loops are used for iterating over a sequence of elements, while “while” loops are used for repeatedly executing code until a specified condition is met.\n",
        "\n",
        "\n",
        "14. Describe a scenario where a while loop is more suitable than a for loop.\n",
        " - While loop is more suitable than a for loop when the number of iterations is not known and when the loop should continue until the user provides valid input.Eg:waiting for particular input before proceeding or conducting verification like correct password.\n",
        "\n",
        "\n",
        "# PRACTICAL QUESTIONS\n",
        "\n",
        "1.  Write a Python program to print \"Hello, World!.\n",
        "\n",
        "\n",
        "\n",
        "\n",
        "\n",
        "     \n",
        "                              \n",
        "  "
      ],
      "metadata": {
        "id": "dejm1_bPuC2e"
      }
    },
    {
      "cell_type": "code",
      "source": [
        "print(\"Hello, World!\")"
      ],
      "metadata": {
        "colab": {
          "base_uri": "https://localhost:8080/"
        },
        "id": "fQ3Wzih1Q0VC",
        "outputId": "aa1e3709-4627-4306-d9be-80e6f1ee2081"
      },
      "execution_count": null,
      "outputs": [
        {
          "output_type": "stream",
          "name": "stdout",
          "text": [
            "Hello, World!\n"
          ]
        }
      ]
    },
    {
      "cell_type": "markdown",
      "source": [
        "2.  Write a Python program that displays your name and age."
      ],
      "metadata": {
        "id": "qAqRkK3BRINy"
      }
    },
    {
      "cell_type": "code",
      "source": [
        "Name=input(\"Enter your name: \")\n",
        "Age=input(\"Enter your age: \")"
      ],
      "metadata": {
        "id": "f1hUYFiURXIE",
        "colab": {
          "base_uri": "https://localhost:8080/"
        },
        "outputId": "8c973a59-3ccd-422a-f337-3487b8e2c63a"
      },
      "execution_count": null,
      "outputs": [
        {
          "name": "stdout",
          "output_type": "stream",
          "text": [
            "Enter your name: Pragati Singh Sadhak\n",
            "Enter your age: 29\n"
          ]
        }
      ]
    },
    {
      "cell_type": "markdown",
      "source": [
        "3. Write code to print all the pre-defined keywords in Python using the keyword library."
      ],
      "metadata": {
        "id": "GBxDjD2xMr60"
      }
    },
    {
      "cell_type": "code",
      "source": [
        "print(keyword.kwlist)"
      ],
      "metadata": {
        "colab": {
          "base_uri": "https://localhost:8080/"
        },
        "id": "zHr1B2PpM2wv",
        "outputId": "3b88f6db-c35b-4da6-be64-3c2266b21f1b"
      },
      "execution_count": null,
      "outputs": [
        {
          "output_type": "stream",
          "name": "stdout",
          "text": [
            "['False', 'None', 'True', 'and', 'as', 'assert', 'async', 'await', 'break', 'class', 'continue', 'def', 'del', 'elif', 'else', 'except', 'finally', 'for', 'from', 'global', 'if', 'import', 'in', 'is', 'lambda', 'nonlocal', 'not', 'or', 'pass', 'raise', 'return', 'try', 'while', 'with', 'yield']\n"
          ]
        }
      ]
    },
    {
      "cell_type": "markdown",
      "source": [
        "4. Write a program that checks if a given word is a Python keyword."
      ],
      "metadata": {
        "id": "QfbG_pEXNFl1"
      }
    },
    {
      "cell_type": "code",
      "source": [
        "import keyword\n",
        "if input(\"Enter a word: \") in keyword.kwlist:\n",
        "    print(\"Yes,it is a keyword\")\n",
        "else:\n",
        "    print(\"No, it is not a keyword\")"
      ],
      "metadata": {
        "colab": {
          "base_uri": "https://localhost:8080/"
        },
        "id": "ULPd9t3PNLnM",
        "outputId": "59ca6b09-b2f4-4b29-e5d3-6d278cf7f4f7"
      },
      "execution_count": null,
      "outputs": [
        {
          "output_type": "stream",
          "name": "stdout",
          "text": [
            "Enter a word: while\n",
            "Yes,it is a keyword\n"
          ]
        }
      ]
    },
    {
      "cell_type": "markdown",
      "source": [
        "5. Create a list and tuple in Python, and demonstrate how attempting to change an element works differently\n",
        "for each"
      ],
      "metadata": {
        "id": "5Q3r4QOxMooN"
      }
    },
    {
      "cell_type": "code",
      "source": [
        "fruits_list=[\"banana\",\"apple\",\"grapes\",\"mango\"]\n",
        "fruits_list[0]=\"oranges\"\n",
        "fruits_list"
      ],
      "metadata": {
        "colab": {
          "base_uri": "https://localhost:8080/"
        },
        "id": "qintKUs8TCZs",
        "outputId": "a49e3029-66c5-433f-f648-0169ab5499e4"
      },
      "execution_count": null,
      "outputs": [
        {
          "output_type": "execute_result",
          "data": {
            "text/plain": [
              "['oranges', 'apple', 'grapes', 'mango']"
            ]
          },
          "metadata": {},
          "execution_count": 22
        }
      ]
    },
    {
      "cell_type": "code",
      "source": [
        "fruits_tuples=(\"banana\",\"apple\",\"grapes\",\"mango\")\n",
        "fruits_tuples[0]=\"oranges\"\n",
        "fruits_tuples"
      ],
      "metadata": {
        "colab": {
          "base_uri": "https://localhost:8080/",
          "height": 176
        },
        "id": "P46VGbZ6Vgoq",
        "outputId": "c0213646-9617-46dc-aaa3-d2541b64e639"
      },
      "execution_count": null,
      "outputs": [
        {
          "output_type": "error",
          "ename": "TypeError",
          "evalue": "'tuple' object does not support item assignment",
          "traceback": [
            "\u001b[0;31m---------------------------------------------------------------------------\u001b[0m",
            "\u001b[0;31mTypeError\u001b[0m                                 Traceback (most recent call last)",
            "\u001b[0;32m<ipython-input-24-91087a5caef4>\u001b[0m in \u001b[0;36m<cell line: 0>\u001b[0;34m()\u001b[0m\n\u001b[1;32m      1\u001b[0m \u001b[0mfruits_tuples\u001b[0m\u001b[0;34m=\u001b[0m\u001b[0;34m(\u001b[0m\u001b[0;34m\"banana\"\u001b[0m\u001b[0;34m,\u001b[0m\u001b[0;34m\"apple\"\u001b[0m\u001b[0;34m,\u001b[0m\u001b[0;34m\"grapes\"\u001b[0m\u001b[0;34m,\u001b[0m\u001b[0;34m\"mango\"\u001b[0m\u001b[0;34m)\u001b[0m\u001b[0;34m\u001b[0m\u001b[0;34m\u001b[0m\u001b[0m\n\u001b[0;32m----> 2\u001b[0;31m \u001b[0mfruits_tuples\u001b[0m\u001b[0;34m[\u001b[0m\u001b[0;36m0\u001b[0m\u001b[0;34m]\u001b[0m\u001b[0;34m=\u001b[0m\u001b[0;34m\"oranges\"\u001b[0m\u001b[0;34m\u001b[0m\u001b[0;34m\u001b[0m\u001b[0m\n\u001b[0m\u001b[1;32m      3\u001b[0m \u001b[0mfruits_tuples\u001b[0m\u001b[0;34m\u001b[0m\u001b[0;34m\u001b[0m\u001b[0m\n",
            "\u001b[0;31mTypeError\u001b[0m: 'tuple' object does not support item assignment"
          ]
        }
      ]
    },
    {
      "cell_type": "markdown",
      "source": [
        "6.Write a function to demonstrate the behavior of mutable and immutable arguments."
      ],
      "metadata": {
        "id": "osTEzEwNXNEp"
      }
    },
    {
      "cell_type": "code",
      "source": [
        "#mutable\n",
        "def mutable(a):\n",
        "    a.append(4)\n",
        "    print(\"Inside function:\", a)\n",
        "\n",
        "a= [1, 2, 3]\n",
        "print(\"Before function:\", a)\n",
        "mutable(a)\n",
        "print(\"After function:\", a)"
      ],
      "metadata": {
        "colab": {
          "base_uri": "https://localhost:8080/"
        },
        "id": "8CAgXqZcvPHE",
        "outputId": "3837bc4a-8ecb-4f2c-bafe-80beea6e3dcd"
      },
      "execution_count": null,
      "outputs": [
        {
          "output_type": "stream",
          "name": "stdout",
          "text": [
            "Before function: [1, 2, 3]\n",
            "Inside function: [1, 2, 3, 4]\n",
            "After function: [1, 2, 3, 4]\n"
          ]
        }
      ]
    },
    {
      "cell_type": "code",
      "source": [
        "#immutable\n",
        "def immutable(a):\n",
        "    a = a + \" world\"\n",
        "    print(\"Inside function:\",a)\n",
        "\n",
        "a = \"Hello\"\n",
        "print(\"Before function:\",a)\n",
        "immutable(a)\n",
        "print(\"After function:\",a)"
      ],
      "metadata": {
        "colab": {
          "base_uri": "https://localhost:8080/"
        },
        "id": "DukzRjUbwu89",
        "outputId": "87fe466d-752b-4f98-c3f7-9425f1a0f624"
      },
      "execution_count": null,
      "outputs": [
        {
          "output_type": "stream",
          "name": "stdout",
          "text": [
            "Before function: Hello\n",
            "Inside function: Hello world\n",
            "After function: Hello\n"
          ]
        }
      ]
    },
    {
      "cell_type": "markdown",
      "source": [
        "7.Write a function to demonstrate the behavior of mutable and immutable arguments.\n",
        "  - Same question repeated twice."
      ],
      "metadata": {
        "id": "FbuRUJTVzdI6"
      }
    },
    {
      "cell_type": "markdown",
      "source": [
        "8.Write a program to demonstrate the use of logical operators ."
      ],
      "metadata": {
        "id": "f6qMGWoL0Dhl"
      }
    },
    {
      "cell_type": "code",
      "source": [
        "a=True\n",
        "b=False\n",
        "a and b"
      ],
      "metadata": {
        "id": "gd23fWfI0NHy",
        "colab": {
          "base_uri": "https://localhost:8080/"
        },
        "outputId": "7a1410c7-a1af-4b24-f51c-a00571d36947"
      },
      "execution_count": null,
      "outputs": [
        {
          "output_type": "execute_result",
          "data": {
            "text/plain": [
              "False"
            ]
          },
          "metadata": {},
          "execution_count": 1
        }
      ]
    },
    {
      "cell_type": "code",
      "source": [
        "a or b"
      ],
      "metadata": {
        "colab": {
          "base_uri": "https://localhost:8080/"
        },
        "id": "m5ilCPSXV-Nt",
        "outputId": "d1810f25-91da-4bfc-c5d7-a14344b691e0"
      },
      "execution_count": null,
      "outputs": [
        {
          "output_type": "execute_result",
          "data": {
            "text/plain": [
              "True"
            ]
          },
          "metadata": {},
          "execution_count": 2
        }
      ]
    },
    {
      "cell_type": "code",
      "source": [
        "not a"
      ],
      "metadata": {
        "colab": {
          "base_uri": "https://localhost:8080/"
        },
        "id": "rbd9edxjWDGw",
        "outputId": "a5258a19-f4fe-4c93-f9d3-3422c1fadb83"
      },
      "execution_count": null,
      "outputs": [
        {
          "output_type": "execute_result",
          "data": {
            "text/plain": [
              "False"
            ]
          },
          "metadata": {},
          "execution_count": 3
        }
      ]
    },
    {
      "cell_type": "code",
      "source": [
        "not b"
      ],
      "metadata": {
        "colab": {
          "base_uri": "https://localhost:8080/"
        },
        "id": "sqGLPwb9WIQa",
        "outputId": "3c9e939e-26e8-4d3c-c3ff-9cf868dbb9e3"
      },
      "execution_count": null,
      "outputs": [
        {
          "output_type": "execute_result",
          "data": {
            "text/plain": [
              "True"
            ]
          },
          "metadata": {},
          "execution_count": 4
        }
      ]
    },
    {
      "cell_type": "markdown",
      "source": [
        "9. Write a Python program to convert user input from string to integer, float, and boolean types."
      ],
      "metadata": {
        "id": "9DYL-amAWcET"
      }
    },
    {
      "cell_type": "code",
      "source": [
        "a=input(\"Enter your roll no.: \")"
      ],
      "metadata": {
        "colab": {
          "base_uri": "https://localhost:8080/"
        },
        "id": "8yDCG2VXWhsv",
        "outputId": "40fb045c-1306-4f75-a237-d61f1fa36102"
      },
      "execution_count": null,
      "outputs": [
        {
          "name": "stdout",
          "output_type": "stream",
          "text": [
            "Enter your roll no.: 10\n"
          ]
        }
      ]
    },
    {
      "cell_type": "code",
      "source": [
        "int(a)"
      ],
      "metadata": {
        "colab": {
          "base_uri": "https://localhost:8080/"
        },
        "id": "QEZDKFm1YKMr",
        "outputId": "c11d7d05-7208-4322-f110-500da4c435c3"
      },
      "execution_count": null,
      "outputs": [
        {
          "output_type": "execute_result",
          "data": {
            "text/plain": [
              "10"
            ]
          },
          "metadata": {},
          "execution_count": 6
        }
      ]
    },
    {
      "cell_type": "code",
      "source": [
        "float(a)"
      ],
      "metadata": {
        "colab": {
          "base_uri": "https://localhost:8080/"
        },
        "id": "zIyLUoKrYN7U",
        "outputId": "395bb56e-58b6-44a5-c50b-da627d67bcc2"
      },
      "execution_count": null,
      "outputs": [
        {
          "output_type": "execute_result",
          "data": {
            "text/plain": [
              "10.0"
            ]
          },
          "metadata": {},
          "execution_count": 7
        }
      ]
    },
    {
      "cell_type": "code",
      "source": [
        "bool(a)"
      ],
      "metadata": {
        "colab": {
          "base_uri": "https://localhost:8080/"
        },
        "id": "njQ66L17YPtM",
        "outputId": "e2b3c36e-ab5c-44fe-cc86-16249197a2b3"
      },
      "execution_count": null,
      "outputs": [
        {
          "output_type": "execute_result",
          "data": {
            "text/plain": [
              "True"
            ]
          },
          "metadata": {},
          "execution_count": 8
        }
      ]
    },
    {
      "cell_type": "markdown",
      "source": [
        "10. Write code to demonstrate type casting with list elements."
      ],
      "metadata": {
        "id": "q-49cHCEYaVo"
      }
    },
    {
      "cell_type": "code",
      "source": [
        "a=[\"Oxford\",\"1\",\"2.5\",\"10\"]\n"
      ],
      "metadata": {
        "id": "0eOpzc0QYTUQ"
      },
      "execution_count": null,
      "outputs": []
    },
    {
      "cell_type": "code",
      "source": [
        "str(a[0])"
      ],
      "metadata": {
        "colab": {
          "base_uri": "https://localhost:8080/",
          "height": 35
        },
        "id": "v_bcuKoPbbd6",
        "outputId": "bd99a79b-b59f-428d-ff62-7952f85398c1"
      },
      "execution_count": null,
      "outputs": [
        {
          "output_type": "execute_result",
          "data": {
            "text/plain": [
              "'Oxford'"
            ],
            "application/vnd.google.colaboratory.intrinsic+json": {
              "type": "string"
            }
          },
          "metadata": {},
          "execution_count": 19
        }
      ]
    },
    {
      "cell_type": "code",
      "source": [
        "int(a[1])"
      ],
      "metadata": {
        "colab": {
          "base_uri": "https://localhost:8080/"
        },
        "id": "GdahcrjQb04q",
        "outputId": "122681b9-d254-4fed-8dbe-fc692a26bb1e"
      },
      "execution_count": null,
      "outputs": [
        {
          "output_type": "execute_result",
          "data": {
            "text/plain": [
              "1"
            ]
          },
          "metadata": {},
          "execution_count": 20
        }
      ]
    },
    {
      "cell_type": "code",
      "source": [
        "float(a[2])"
      ],
      "metadata": {
        "colab": {
          "base_uri": "https://localhost:8080/"
        },
        "id": "kgRH646Bb9Cg",
        "outputId": "3ee3ee24-2ebb-4c0b-8ec0-d4954cc45af5"
      },
      "execution_count": null,
      "outputs": [
        {
          "output_type": "execute_result",
          "data": {
            "text/plain": [
              "2.5"
            ]
          },
          "metadata": {},
          "execution_count": 21
        }
      ]
    },
    {
      "cell_type": "code",
      "source": [
        "bool(a[3])"
      ],
      "metadata": {
        "colab": {
          "base_uri": "https://localhost:8080/"
        },
        "id": "Bz9bbAKJcAp1",
        "outputId": "440322bc-4eb4-4b0e-df78-3907bb2d0dd8"
      },
      "execution_count": null,
      "outputs": [
        {
          "output_type": "execute_result",
          "data": {
            "text/plain": [
              "True"
            ]
          },
          "metadata": {},
          "execution_count": 27
        }
      ]
    },
    {
      "cell_type": "markdown",
      "source": [
        "11. Write a program that checks if a number is positive, negative, or zero."
      ],
      "metadata": {
        "id": "YytyH5OMc784"
      }
    },
    {
      "cell_type": "code",
      "source": [
        "a=10\n",
        "if a>0:\n",
        "    print(\"The number is positve\")\n",
        "elif a<0:\n",
        "    print(\"The number is negative\")\n",
        "else:\n",
        "    print(\"The number is zero\")"
      ],
      "metadata": {
        "colab": {
          "base_uri": "https://localhost:8080/"
        },
        "id": "7eS3vTsfdCO5",
        "outputId": "8092f19f-1233-4020-d1a5-abeb89e3e929"
      },
      "execution_count": null,
      "outputs": [
        {
          "output_type": "stream",
          "name": "stdout",
          "text": [
            "The number is positve\n"
          ]
        }
      ]
    },
    {
      "cell_type": "markdown",
      "source": [
        "12.  Write a for loop to print numbers from 1 to 10."
      ],
      "metadata": {
        "id": "AoGGAsjFfIrs"
      }
    },
    {
      "cell_type": "code",
      "source": [
        "for i in range(1,11):\n",
        "    print(i)"
      ],
      "metadata": {
        "colab": {
          "base_uri": "https://localhost:8080/"
        },
        "id": "7QPCJRK_e7l7",
        "outputId": "eba64a9b-fa65-4628-8450-21dfad106f4c"
      },
      "execution_count": null,
      "outputs": [
        {
          "output_type": "stream",
          "name": "stdout",
          "text": [
            "1\n",
            "2\n",
            "3\n",
            "4\n",
            "5\n",
            "6\n",
            "7\n",
            "8\n",
            "9\n",
            "10\n"
          ]
        }
      ]
    },
    {
      "cell_type": "markdown",
      "source": [
        "13. Write a Python program to find the sum of all even numbers between 1 and 50."
      ],
      "metadata": {
        "id": "Hzc87-dsgbFg"
      }
    },
    {
      "cell_type": "code",
      "source": [
        "print(sum(range(2,51,2)))"
      ],
      "metadata": {
        "colab": {
          "base_uri": "https://localhost:8080/"
        },
        "id": "vKaSmDlqgT2Z",
        "outputId": "9bc62315-159d-4b25-b632-29b003d09d41"
      },
      "execution_count": null,
      "outputs": [
        {
          "output_type": "stream",
          "name": "stdout",
          "text": [
            "650\n"
          ]
        }
      ]
    },
    {
      "cell_type": "markdown",
      "source": [
        "14. Write a program to reverse a string using a while loop."
      ],
      "metadata": {
        "id": "70N-ShuShvCa"
      }
    },
    {
      "cell_type": "code",
      "source": [
        "a=\"hello\"\n",
        "i=len(a)\n",
        "while i>0:\n",
        "    print(a[i-1],end=\"\")\n",
        "    i-=1"
      ],
      "metadata": {
        "colab": {
          "base_uri": "https://localhost:8080/"
        },
        "id": "h-PnfAImpsqp",
        "outputId": "396ca9d8-7846-40ab-dc30-20d79fa152f2"
      },
      "execution_count": null,
      "outputs": [
        {
          "output_type": "stream",
          "name": "stdout",
          "text": [
            "olleh"
          ]
        }
      ]
    },
    {
      "cell_type": "markdown",
      "source": [
        "15. Write a Python program to calculate the factorial of a number provided by the user using a while loop."
      ],
      "metadata": {
        "id": "Qhex_eoarjo9"
      }
    },
    {
      "cell_type": "code",
      "source": [
        "a=int(input(\"Enter the number: \"))\n",
        "factorial=1\n",
        "i=a\n",
        "while i>0:\n",
        "    factorial = factorial * i\n",
        "    i = i - 1\n",
        "print(factorial)"
      ],
      "metadata": {
        "colab": {
          "base_uri": "https://localhost:8080/"
        },
        "id": "WThSl_CmqywU",
        "outputId": "74ce435b-9a78-41e9-a40e-c06e828f3da0"
      },
      "execution_count": null,
      "outputs": [
        {
          "output_type": "stream",
          "name": "stdout",
          "text": [
            "Enter the number: 5\n",
            "120\n"
          ]
        }
      ]
    },
    {
      "cell_type": "code",
      "source": [],
      "metadata": {
        "id": "XVqzCOXdvm0c"
      },
      "execution_count": null,
      "outputs": []
    }
  ]
}